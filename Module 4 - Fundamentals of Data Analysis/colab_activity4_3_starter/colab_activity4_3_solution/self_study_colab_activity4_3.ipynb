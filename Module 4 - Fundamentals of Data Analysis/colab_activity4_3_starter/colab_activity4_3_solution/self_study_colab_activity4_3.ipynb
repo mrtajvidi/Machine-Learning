{
 "cells": [
  {
   "cell_type": "markdown",
   "metadata": {
    "id": "zAJ4Wo92zy-j",
    "nbgrader": {
     "grade": false,
     "grade_id": "cell-ae84d0597eaf1d9f",
     "locked": true,
     "schema_version": 1,
     "solution": false
    }
   },
   "source": [
    "### Self-Study Colab Activity 4.3: Creating Violin, Box, and Joint Plots\n",
    "\n",
    "**Expected Time: 60 Minutes**\n",
    "\n",
    "\n",
    "\n",
    "This activity focuses on producing the plots demonstrated in Video 4.6 and Video 4.7.  Specifically, histograms, Kernel Density Estimate plots, Violin, and Box plots.  The dataset is the `gapminder` data from plotly.  \n",
    "\n",
    "\n",
    "#### Index:\n",
    "\n",
    "- [Problem 1](#Problem-1)\n",
    "- [Problem 2](#Problem-2)\n",
    "- [Problem 3](#Problem-3)\n",
    "- [Problem 4](#Problem-4)\n",
    "- [Problem 5](#Problem-5)\n",
    "- [Problem 6](#Problem-6)\n",
    "- [Problem 7](#Problem-7)\n",
    "- [Problem 8](#Problem-8)\n",
    "- [Problem 9](#Problem-9)\n",
    "- [Problem 10](#Problem-10)\n",
    "- [Problem 11](#Problem-11)\n",
    "- [Problem 12](#Problem-12)\n",
    "- [Problem 13](#Problem-13)\n",
    "- [Problem 14](#Problem-14)\n"
   ]
  },
  {
   "cell_type": "code",
   "execution_count": null,
   "metadata": {
    "id": "UWDMcQ5Szy-m",
    "nbgrader": {
     "grade": false,
     "grade_id": "cell-4c7368ea61867270",
     "locked": true,
     "schema_version": 1,
     "solution": false
    }
   },
   "outputs": [],
   "source": [
    "import pandas as pd\n",
    "import plotly.express as px\n",
    "import numpy as np\n",
    "import seaborn as sns\n",
    "import matplotlib.pyplot as plt"
   ]
  },
  {
   "cell_type": "code",
   "execution_count": null,
   "metadata": {
    "id": "ZsTCCheazy-n",
    "nbgrader": {
     "grade": false,
     "grade_id": "cell-49801e50534a6eed",
     "locked": true,
     "schema_version": 1,
     "solution": false
    }
   },
   "outputs": [],
   "source": [
    "gapminder = px.data.gapminder()"
   ]
  },
  {
   "cell_type": "markdown",
   "metadata": {
    "id": "AUKIhjaozy-o",
    "nbgrader": {
     "grade": false,
     "grade_id": "cell-56a03e2dc3cb1aa2",
     "locked": true,
     "schema_version": 1,
     "solution": false
    }
   },
   "source": [
    "[Back to top](#Index:) \n",
    "\n",
    "### Problem 1\n",
    "\n",
    "#### Histogram of Life Expectancy with `plotly`\n",
    "\n",
    "\n",
    "Create a histogram of the Life Expectancy data using `plotly`."
   ]
  },
  {
   "cell_type": "code",
   "execution_count": null,
   "metadata": {
    "id": "ILUi2qf8zy-o",
    "nbgrader": {
     "grade": false,
     "grade_id": "cell-7241334cc5d6ee4d",
     "locked": false,
     "schema_version": 1,
     "solution": true
    }
   },
   "outputs": [],
   "source": [
    "hist = px.histogram(gapminder, x= 'lifeExp')\n",
    "hist"
   ]
  },
  {
   "cell_type": "markdown",
   "metadata": {
    "id": "N1cPw-wfzy-o",
    "nbgrader": {
     "grade": false,
     "grade_id": "cell-55b2f85f8edf4a57",
     "locked": true,
     "schema_version": 1,
     "solution": false
    }
   },
   "source": [
    "[Back to top](#Index:) \n",
    "\n",
    "### Problem 2\n",
    "\n",
    "#### Histogram of Life Expectancy with `seaborn`\n",
    "\n",
    "\n",
    "\n",
    "Create a histogram of the Life Expectancy data using `seaborn`. "
   ]
  },
  {
   "cell_type": "code",
   "execution_count": null,
   "metadata": {
    "id": "hKBpYTlEzy-p",
    "nbgrader": {
     "grade": false,
     "grade_id": "cell-e9205947cf2db122",
     "locked": false,
     "schema_version": 1,
     "solution": true
    }
   },
   "outputs": [],
   "source": [
    "#make a histogram in seaborn\n",
    "sns.histplot(data=gapminder, x=\"lifeExp\")"
   ]
  },
  {
   "cell_type": "markdown",
   "metadata": {
    "id": "cm2khL9mzy-p",
    "nbgrader": {
     "grade": false,
     "grade_id": "cell-74968c7e7e079938",
     "locked": true,
     "schema_version": 1,
     "solution": false
    }
   },
   "source": [
    "[Back to top](#Index:) \n",
    "\n",
    "### Problem 3\n",
    "\n",
    "#### Histogram and KDE of Life Expectancy with `seaborn` \n",
    "\n",
    "\n",
    "\n",
    "Create a histogram with the KDE of the Life Expectancy data using `seaborn`."
   ]
  },
  {
   "cell_type": "code",
   "execution_count": null,
   "metadata": {
    "id": "TAa5weRkzy-q",
    "nbgrader": {
     "grade": false,
     "grade_id": "cell-d6b67f55b7b850e5",
     "locked": false,
     "schema_version": 1,
     "solution": true
    }
   },
   "outputs": [],
   "source": [
    "\n",
    "#make a kde plot in seaborn\n",
    "sns.displot(data=gapminder, x=\"lifeExp\", kde=True)"
   ]
  },
  {
   "cell_type": "markdown",
   "metadata": {
    "id": "2HYELSRSzy-q",
    "nbgrader": {
     "grade": false,
     "grade_id": "cell-75053d1bd2a91d1f",
     "locked": true,
     "schema_version": 1,
     "solution": false
    }
   },
   "source": [
    "[Back to top](#Index:) \n",
    "\n",
    "### Problem 4\n",
    "\n",
    "#### Histogram, KDE, and rugplot of Life Expectancy with `seaborn`\n",
    "\n",
    "\n",
    "\n",
    "Create a histogram and KDE of the Life Expectancy data along with the rugplot using `seaborn`."
   ]
  },
  {
   "cell_type": "code",
   "execution_count": null,
   "metadata": {
    "id": "mfSjR1eFzy-r",
    "nbgrader": {
     "grade": false,
     "grade_id": "cell-87ce30f6af7fa833",
     "locked": false,
     "schema_version": 1,
     "solution": true
    }
   },
   "outputs": [],
   "source": [
    "\n",
    "#make a rug plot with seaborn\n",
    "sns.displot(data=gapminder, x=\"lifeExp\", kde=True)\n",
    "sns.rugplot(data=gapminder, x=\"lifeExp\")"
   ]
  },
  {
   "cell_type": "markdown",
   "metadata": {
    "id": "vpS6vQzQzy-r",
    "nbgrader": {
     "grade": false,
     "grade_id": "cell-3f4ae451cf8d7624",
     "locked": true,
     "schema_version": 1,
     "solution": false
    }
   },
   "source": [
    "[Back to top](#Index:) \n",
    "\n",
    "### Problem 5\n",
    "\n",
    "#### Violin Plot of Life Expectancy with `plotly`\n",
    "\n",
    "\n",
    "\n",
    "Create a Violin Plot of the Life Expectancy data using `plotly`. "
   ]
  },
  {
   "cell_type": "code",
   "execution_count": null,
   "metadata": {
    "id": "fxH8-o3Dzy-r",
    "nbgrader": {
     "grade": false,
     "grade_id": "cell-8794e1e21ff303d9",
     "locked": false,
     "schema_version": 1,
     "solution": true
    }
   },
   "outputs": [],
   "source": [
    "#create a violin plot with plotly\n",
    "fig = px.violin(gapminder, y='lifeExp')\n",
    "fig"
   ]
  },
  {
   "cell_type": "markdown",
   "metadata": {
    "id": "2oS_LHqKzy-r",
    "nbgrader": {
     "grade": false,
     "grade_id": "cell-7eb99e2fa41f42b5",
     "locked": true,
     "schema_version": 1,
     "solution": false
    }
   },
   "source": [
    "[Back to top](#Index:) \n",
    "\n",
    "### Problem 6\n",
    "\n",
    "#### Violin Plot with points of Life Expectancy with `plotly`\n",
    "\n",
    "\n",
    "\n",
    "Create a Violin Plot of the Life Expectancy data alongside the actual points using `plotly`. "
   ]
  },
  {
   "cell_type": "code",
   "execution_count": null,
   "metadata": {
    "id": "F04LI1Suzy-s",
    "nbgrader": {
     "grade": false,
     "grade_id": "cell-f8f8c6ff09510dad",
     "locked": false,
     "schema_version": 1,
     "solution": true
    }
   },
   "outputs": [],
   "source": [
    "#violin in plotly with points = \"all\"\n",
    "fig = px.violin(gapminder, y='lifeExp',points = 'all')\n",
    "fig"
   ]
  },
  {
   "cell_type": "markdown",
   "metadata": {
    "id": "GLCcp7vRzy-s",
    "nbgrader": {
     "grade": false,
     "grade_id": "cell-bd578ffbf7432e3d",
     "locked": true,
     "schema_version": 1,
     "solution": false
    }
   },
   "source": [
    "[Back to top](#Index:) \n",
    "\n",
    "### Problem 7\n",
    "\n",
    "#### Violin Plot of Life Expectancy by Continent with `plotly`\n",
    "\n",
    "\n",
    "\n",
    "Create a Violin Plot of the Life Expectancy by continent using `plotly`."
   ]
  },
  {
   "cell_type": "code",
   "execution_count": null,
   "metadata": {
    "id": "rqe73f87zy-s",
    "nbgrader": {
     "grade": false,
     "grade_id": "cell-2f4b047022f05d4f",
     "locked": false,
     "schema_version": 1,
     "solution": true
    }
   },
   "outputs": [],
   "source": [
    "#violin plot by continent in plotly\n",
    "fig = px.violin(gapminder, x='continent',y='lifeExp')\n",
    "fig`"
   ]
  },
  {
   "cell_type": "markdown",
   "metadata": {
    "id": "fu1v8qMLzy-s",
    "nbgrader": {
     "grade": false,
     "grade_id": "cell-26cc088231eb7759",
     "locked": true,
     "schema_version": 1,
     "solution": false
    }
   },
   "source": [
    "[Back to top](#Index:) \n",
    "\n",
    "### Problem 8\n",
    "\n",
    "#### Violin Plot of Life Expectancy by Continent with `seaborn`\n",
    "\n",
    "\n",
    "\n",
    "Create a Violin Plot of the Life Expectancy by continent using `seaborn`. Note that you will set your `x` argument to continent and `y` to lifeExp."
   ]
  },
  {
   "cell_type": "code",
   "execution_count": null,
   "metadata": {
    "id": "XelL8qv7zy-s",
    "nbgrader": {
     "grade": false,
     "grade_id": "cell-52f75f79c300d520",
     "locked": false,
     "schema_version": 1,
     "solution": true
    }
   },
   "outputs": [],
   "source": [
    "#violin plot by continent in seaborn\n",
    "sns.violinplot(x=\"continent\", y=\"lifeExp\", data=gapminder)"
   ]
  },
  {
   "cell_type": "markdown",
   "metadata": {
    "id": "fJqXJsjlzy-t",
    "nbgrader": {
     "grade": false,
     "grade_id": "cell-238e109528ce4c39",
     "locked": true,
     "schema_version": 1,
     "solution": false
    }
   },
   "source": [
    "[Back to top](#Index:) \n",
    "\n",
    "### Problem 9\n",
    "\n",
    "#### Box Plot of Life Expectancy by Continent with `plotly`\n",
    "\n",
    "\n",
    "Create a Box Plot of the Life Expectancy by continent using `plotly`. "
   ]
  },
  {
   "cell_type": "code",
   "execution_count": null,
   "metadata": {
    "id": "U3lpaXV0zy-t",
    "nbgrader": {
     "grade": false,
     "grade_id": "cell-484b0007f129a8ca",
     "locked": false,
     "schema_version": 1,
     "solution": true
    }
   },
   "outputs": [],
   "source": [
    "#boxplot by continent with plotly with y = lifeExp\n",
    "fig = px.box(gapminder,x=\"continent\", y=\"lifeExp\")\n",
    "fig"
   ]
  },
  {
   "cell_type": "markdown",
   "metadata": {
    "id": "eEH3Bevczy-t",
    "nbgrader": {
     "grade": false,
     "grade_id": "cell-85eacc443cd92a9e",
     "locked": true,
     "schema_version": 1,
     "solution": false
    }
   },
   "source": [
    "[Back to top](#Index:) \n",
    "\n",
    "### Problem 10\n",
    "\n",
    "#### Box Plot of Life Expectancy by Continent with `seaborn`\n",
    "\n",
    "\n",
    "\n",
    "Create a Box Plot of the Life Expectancy by continent using `seaborn`. Note that you will set your `x` argument to continent and `y` to lifeExp. "
   ]
  },
  {
   "cell_type": "code",
   "execution_count": null,
   "metadata": {
    "id": "At3XKFrhzy-t",
    "nbgrader": {
     "grade": false,
     "grade_id": "cell-3ead57085468a0a1",
     "locked": false,
     "schema_version": 1,
     "solution": true
    }
   },
   "outputs": [],
   "source": [
    "\n",
    "#seaborn boxplot by continent\n",
    "sns.boxplot(x=\"continent\", y=\"lifeExp\", data=gapminder)"
   ]
  },
  {
   "cell_type": "markdown",
   "metadata": {
    "id": "OIZ4lwM6zy-t",
    "nbgrader": {
     "grade": false,
     "grade_id": "cell-f71285ef2601b1de",
     "locked": true,
     "schema_version": 1,
     "solution": false
    }
   },
   "source": [
    "[Back to top](#Index:) \n",
    "\n",
    "### Problem 11\n",
    "\n",
    "#### Scatterplot of Life Expectancy vs. GDP including marginal histograms with `plotly`\n",
    "\n",
    "\n",
    "\n",
    "Create a Scatterplot Life Expectancy vs. GDP including marginals as histograms using `plotly`."
   ]
  },
  {
   "cell_type": "code",
   "execution_count": null,
   "metadata": {
    "id": "6Ah6wda_zy-t",
    "nbgrader": {
     "grade": false,
     "grade_id": "cell-f43b4bceadc9f191",
     "locked": false,
     "schema_version": 1,
     "solution": true
    }
   },
   "outputs": [],
   "source": [
    "#plotly gdp v life exp marginal_x = \"histogram\" and y\n",
    "fig = px.scatter(gapminder, x=\"lifeExp\", y=\"gdpPercap\", marginal_x=\"histogram\", marginal_y=\"histogram\")\n",
    "fig"
   ]
  },
  {
   "cell_type": "markdown",
   "metadata": {
    "id": "F2t5uhN6zy-u",
    "nbgrader": {
     "grade": false,
     "grade_id": "cell-1fdbd17121c86bbd",
     "locked": true,
     "schema_version": 1,
     "solution": false
    }
   },
   "source": [
    "[Back to top](#Index:) \n",
    "\n",
    "### Problem 12\n",
    "\n",
    "#### Scatterplot of Life Expectancy vs. GDP including marginal box plots with `plotly`\n",
    "\n",
    "\n",
    "Create a Scatterplot Life Expectancy vs. GDP including marginals as box plots using `plotly`."
   ]
  },
  {
   "cell_type": "code",
   "execution_count": null,
   "metadata": {
    "id": "oxe1S5wXzy-u",
    "nbgrader": {
     "grade": false,
     "grade_id": "cell-937720fe4f2199dc",
     "locked": false,
     "schema_version": 1,
     "solution": true
    }
   },
   "outputs": [],
   "source": [
    "#marginals with boxplot\n",
    "fig = px.scatter(gapminder, x=\"lifeExp\", y=\"gdpPercap\", marginal_x=\"box\", marginal_y=\"box\")\n",
    "fig"
   ]
  },
  {
   "cell_type": "markdown",
   "metadata": {
    "id": "B_-x5Hw1zy-u",
    "nbgrader": {
     "grade": false,
     "grade_id": "cell-69f0182d44f96901",
     "locked": true,
     "schema_version": 1,
     "solution": false
    }
   },
   "source": [
    "[Back to top](#Index:) \n",
    "\n",
    "### Problem 13\n",
    "\n",
    "#### Density Heatmap of Life Expectancy vs. GDP including marginal histograms with `plotly`\n",
    "\n",
    "\n",
    "\n",
    "Create a Density Heatmap of Life Expectancy vs. GDP including marginals as histograms using `plotly`. "
   ]
  },
  {
   "cell_type": "code",
   "execution_count": null,
   "metadata": {
    "id": "BLgv4-8Lzy-u",
    "nbgrader": {
     "grade": false,
     "grade_id": "cell-0c6de4620a3a3a70",
     "locked": false,
     "schema_version": 1,
     "solution": true
    }
   },
   "outputs": [],
   "source": [
    "#density heatmap with plotly\n",
    "fig = px.density_heatmap(gapminder, x=\"lifeExp\", y=\"gdpPercap\", marginal_x=\"histogram\", marginal_y=\"histogram\")\n",
    "fig"
   ]
  },
  {
   "cell_type": "markdown",
   "metadata": {
    "id": "O29fuZiszy-u",
    "nbgrader": {
     "grade": false,
     "grade_id": "cell-b9634b273da24ea1",
     "locked": true,
     "schema_version": 1,
     "solution": false
    }
   },
   "source": [
    "[Back to top](#Index:) \n",
    "\n",
    "### Problem 14\n",
    "\n",
    "#### `jointplot` of Life Expectancy vs. GDP with `kind = hex` using `seaborn`\n",
    "\n",
    "\n",
    "\n",
    "Create a `jointplot` of Life Expectancy vs. GDP and set the `kind` argument to `hex`. "
   ]
  },
  {
   "cell_type": "code",
   "execution_count": null,
   "metadata": {
    "id": "vV-okJWkzy-u",
    "nbgrader": {
     "grade": false,
     "grade_id": "cell-cdb2e4be333d3ca7",
     "locked": false,
     "schema_version": 1,
     "solution": true
    }
   },
   "outputs": [],
   "source": [
    "#seaborn jointplot with kind = \"hex\"\n",
    "sns.jointplot(data=gapminder, x=\"lifeExp\", y=\"gdpPercap\", kind=\"hex\")"
   ]
  }
 ],
 "metadata": {
  "celltoolbar": "Create Assignment",
  "colab": {
   "name": "coding_activity_4.4.ipynb",
   "provenance": []
  },
  "kernelspec": {
   "display_name": "Python 3 (ipykernel)",
   "language": "python",
   "name": "python3"
  },
  "language_info": {
   "codemirror_mode": {
    "name": "ipython",
    "version": 3
   },
   "file_extension": ".py",
   "mimetype": "text/x-python",
   "name": "python",
   "nbconvert_exporter": "python",
   "pygments_lexer": "ipython3",
   "version": "3.12.1"
  }
 },
 "nbformat": 4,
 "nbformat_minor": 4
}
