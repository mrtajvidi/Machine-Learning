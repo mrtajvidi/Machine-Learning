{
 "cells": [
  {
   "cell_type": "markdown",
   "metadata": {
    "nbgrader": {
     "grade": false,
     "grade_id": "cell-3bfb8eddc53399a3",
     "locked": true,
     "schema_version": 1,
     "solution": false
    }
   },
   "source": [
    "### Required Assignment 3.4: Combining Data Analysis Techniques\n",
    "\n",
    "**Expected Time**: 120 Minutes\n",
    "\n",
    "**Total Points**: 10\n",
    "\n",
    "This assignment aims to put together our work from module 3.  You are to explore a dataset dealing with customer churn.  Exploratory plots and split-apply-combine techniques will be the main focus of the investigation with the impetus being to identify drivers of customer churn. Churn determines if a customer eliminated their subscription to the telecommunication company. \n",
    "\n",
    "#### Index:\n",
    "\n",
    "- [Problem 1](#Problem-1:-Reading-in-the-Data)\n",
    "- [Problem 2](#Problem-2:-Exploring-the-Missing-Data)\n",
    "- [Problem 3](#Problem-3:-Investigating-Churn)\n",
    "- [Problem 4](#Problem-4:-Plotting-Churn-with-Seaborn)\n",
    "- [Problem 5](#Problem-5:-Churn-Across-all-Customers)\n",
    "- [Problem 6](#Problem-1:-Churn-by-International-Plan)\n",
    "- [Problem 7](#Problem-2:-Selecting-Specific-States)\n",
    "- [Problem 8](#Problem-3:-International-Minutes-and-Churn)\n",
    "- [Problem 9](#Problem-4:-pairplot-of-features)\n",
    "- [Problem 10](#Problem-5:-Customer-Service-Calls-and-Churn)"
   ]
  },
  {
   "cell_type": "code",
   "execution_count": null,
   "metadata": {},
   "outputs": [],
   "source": [
    "import pandas as pd\n",
    "import numpy as np\n",
    "import matplotlib.pyplot as plt\n",
    "import seaborn as sns\n",
    "import plotly.express as px"
   ]
  },
  {
   "cell_type": "markdown",
   "metadata": {
    "nbgrader": {
     "grade": false,
     "grade_id": "cell-27d8f80216c233b9",
     "locked": true,
     "schema_version": 1,
     "solution": false
    }
   },
   "source": [
    "[Back to top](#Index:) \n",
    "\n",
    "\n",
    "### Problem 1: Reading in the Data\n",
    "\n",
    "**1 Point**\n",
    "\n",
    "Read in the dataset as a pandas DataFrame and assign your answer to `churn_df` below.  The dataset is located in the `data` folder and titled `cell_phone_churn.csv`."
   ]
  },
  {
   "cell_type": "code",
   "execution_count": null,
   "metadata": {
    "nbgrader": {
     "grade": false,
     "grade_id": "cell-d943285c78dcf3e6",
     "locked": false,
     "schema_version": 1,
     "solution": true
    }
   },
   "outputs": [],
   "source": [
    "### GRADED\n",
    "\n",
    "churn_df = None\n",
    "\n",
    "### BEGIN SOLUTION\n",
    "churn_df = pd.read_csv('data/cell_phone_churn.csv')\n",
    "### END SOLUTION\n",
    "\n",
    "# Answer check\n",
    "print(type(churn_df))\n",
    "churn_df.head()"
   ]
  },
  {
   "cell_type": "markdown",
   "metadata": {
    "nbgrader": {
     "grade": false,
     "grade_id": "cell-43c681257bc59a3d",
     "locked": true,
     "schema_version": 1,
     "solution": false
    }
   },
   "source": [
    "[Back to top](#Index:) \n",
    "\n",
    "\n",
    "### Problem 2: Exploring the Missing Data\n",
    "\n",
    "**1 Point**\n",
    "\n",
    "Use the `.isnull()` method together with the `.sum()` method on the DataFrame `churn_df` determine how many missing values are in each column.  Assign your solution as a pandas Series to `missing_vals` below."
   ]
  },
  {
   "cell_type": "code",
   "execution_count": null,
   "metadata": {
    "nbgrader": {
     "grade": false,
     "grade_id": "cell-5e84f2447a6feb8e",
     "locked": false,
     "schema_version": 1,
     "solution": true
    }
   },
   "outputs": [],
   "source": [
    "### GRADED\n",
    "\n",
    "missing_vals = None\n",
    "\n",
    "### BEGIN SOLUTION\n",
    "missing_vals = churn_df.isnull().sum()\n",
    "### END SOLUTION\n",
    "\n",
    "# Answer check\n",
    "print(type(missing_vals))\n",
    "missing_vals"
   ]
  },
  {
   "cell_type": "markdown",
   "metadata": {
    "nbgrader": {
     "grade": false,
     "grade_id": "cell-36a19214005aac32",
     "locked": true,
     "schema_version": 1,
     "solution": false
    }
   },
   "source": [
    "[Back to top](#Index:) \n",
    "\n",
    "\n",
    "### Problem 3: Investigating Churn\n",
    "\n",
    "**1 Point**\n",
    "\n",
    "Use the `.value_counts()` method on the `churn` column of `churn_df` to determine the *percent* (value between 0 and 1) of customers churned and not in the dataset.  Inside `.value_counts()` set the argument `normalize` equal to `True`. Assign your results as a pandas Series to `churn_pct` below.  "
   ]
  },
  {
   "cell_type": "code",
   "execution_count": null,
   "metadata": {
    "nbgrader": {
     "grade": false,
     "grade_id": "cell-3706cd824f22c1fa",
     "locked": false,
     "schema_version": 1,
     "solution": true
    }
   },
   "outputs": [],
   "source": [
    "### GRADED\n",
    "\n",
    "churn_pct = None\n",
    "\n",
    "### BEGIN SOLUTION\n",
    "churn_pct = churn_df['churn'].value_counts(normalize = True)\n",
    "### END SOLUTION\n",
    "\n",
    "# Answer check\n",
    "print(type(churn_pct))\n",
    "churn_pct"
   ]
  },
  {
   "cell_type": "markdown",
   "metadata": {
    "nbgrader": {
     "grade": false,
     "grade_id": "cell-40a1f641125708ac",
     "locked": true,
     "schema_version": 1,
     "solution": false
    }
   },
   "source": [
    "[Back to top](#Index:) \n",
    "\n",
    "\n",
    "### Problem 4: Plotting Churn with Seaborn\n",
    "\n",
    "**1 Point**\n",
    "\n",
    "Use seaborn's `countplot()` on the `churn` column of `churn_df` to visualize the counts of customers churned and not churned.  Save your image as `churn_count.png` to the `images` folder."
   ]
  },
  {
   "cell_type": "code",
   "execution_count": null,
   "metadata": {
    "nbgrader": {
     "grade": false,
     "grade_id": "cell-e2593cccc6436f19",
     "locked": false,
     "schema_version": 1,
     "solution": true
    }
   },
   "outputs": [],
   "source": [
    "### GRADED\n",
    "\n",
    "### BEGIN SOLUTION\n",
    "sns.countplot(data = churn_df, x = 'churn')\n",
    "plt.savefig('images/churn_count.png')\n",
    "### END SOLUTION"
   ]
  },
  {
   "cell_type": "markdown",
   "metadata": {
    "nbgrader": {
     "grade": false,
     "grade_id": "cell-34784ec0395002a5",
     "locked": true,
     "schema_version": 1,
     "solution": false
    }
   },
   "source": [
    "[Back to top](#Index:) \n",
    "\n",
    "\n",
    "### Problem 5: Churn Across all Customers\n",
    "\n",
    "**1 Point**\n",
    "\n",
    "Based on your results from Problems 3 and 4, are most customers churned or do most stay with the company? \n",
    "\n",
    "Assign a boolean of `True` if most are churned and `False` if most stay with the company to the variable `most_churn` below."
   ]
  },
  {
   "cell_type": "code",
   "execution_count": null,
   "metadata": {
    "nbgrader": {
     "grade": false,
     "grade_id": "cell-a83468fe43cd8832",
     "locked": false,
     "schema_version": 1,
     "solution": true
    }
   },
   "outputs": [],
   "source": [
    "### GRADED\n",
    "\n",
    "most_churn = None\n",
    "\n",
    "### BEGIN SOLUTION\n",
    "most_churn = False\n",
    "### END SOLUTION\n",
    "print(type(most_churn))\n",
    "most_churn"
   ]
  },
  {
   "cell_type": "markdown",
   "metadata": {
    "nbgrader": {
     "grade": false,
     "grade_id": "cell-bae2792d5a908d3d",
     "locked": true,
     "schema_version": 1,
     "solution": false
    }
   },
   "source": [
    "[Back to top](#Index:) \n",
    "\n",
    "\n",
    "### Problem 6: Churn by International Plan\n",
    "\n",
    "**1 Point**\n",
    "\n",
    "Use the `groupby` method on the `churn_df` DataFrame to group the `intl_plan` column. Use a double square bracket notation to apply this grouping to the column `churn`. Finally, use the function `mean()` to compute the average churn for each group and assign your response as a DataFrame to `intl_churn` below.  "
   ]
  },
  {
   "cell_type": "code",
   "execution_count": null,
   "metadata": {
    "nbgrader": {
     "grade": false,
     "grade_id": "cell-2e9908ac06f474e2",
     "locked": false,
     "schema_version": 1,
     "solution": true
    }
   },
   "outputs": [],
   "source": [
    "### GRADED\n",
    "\n",
    "intl_churn = None\n",
    "\n",
    "### BEGIN SOLUTION\n",
    "intl_churn = churn_df.groupby('intl_plan')[['churn']].mean()\n",
    "### END SOLUTION\n",
    "print(type(intl_churn))\n",
    "intl_churn"
   ]
  },
  {
   "cell_type": "markdown",
   "metadata": {
    "nbgrader": {
     "grade": false,
     "grade_id": "cell-a84681836252dc78",
     "locked": true,
     "schema_version": 1,
     "solution": false
    }
   },
   "source": [
    "[Back to top](#Index:) \n",
    "\n",
    "\n",
    "### Problem 7: Selecting Specific States\n",
    "\n",
    "**1 Point**\n",
    "\n",
    "Subset the data to the following five states using the `query` method.  Use the resulting subset to determine the percent churned for each state using the `groupby` method.  Which state had the highest churn rate?  Assign your answer as a string with the two letter abbreviation from the list `states` to `most_churn_ne` below.\n",
    "\n",
    "```python\n",
    "states = ['NY', 'MA', 'CT', 'NH', 'ME']\n",
    "```"
   ]
  },
  {
   "cell_type": "code",
   "execution_count": null,
   "metadata": {},
   "outputs": [],
   "source": [
    "states = ['NY', 'MA', 'CT', 'NH', 'ME']"
   ]
  },
  {
   "cell_type": "code",
   "execution_count": null,
   "metadata": {},
   "outputs": [],
   "source": [
    "### explore the data here\n"
   ]
  },
  {
   "cell_type": "code",
   "execution_count": null,
   "metadata": {
    "nbgrader": {
     "grade": false,
     "grade_id": "cell-25b637284a98e0da",
     "locked": false,
     "schema_version": 1,
     "solution": true
    }
   },
   "outputs": [],
   "source": [
    "### GRADED\n",
    "\n",
    "most_churn_ne = None\n",
    "\n",
    "### BEGIN SOLUTION\n",
    "ne = churn_df.query('state in @states')\n",
    "ans = ne.groupby('state')[['churn']].mean().sort_values(by = 'churn', ascending = False)\n",
    "most_churn_ne = 'ME'\n",
    "### END SOLUTION\n",
    "print(type(most_churn_ne))\n",
    "most_churn_ne"
   ]
  },
  {
   "cell_type": "markdown",
   "metadata": {
    "nbgrader": {
     "grade": false,
     "grade_id": "cell-73d73cbcd813d6d0",
     "locked": true,
     "schema_version": 1,
     "solution": false
    }
   },
   "source": [
    "[Back to top](#Index:) \n",
    "\n",
    "\n",
    "### Problem 8: International Minutes and Churn\n",
    "\n",
    "**1 Point**\n",
    "\n",
    "Use the Seaborn function `histplot` to create histograms of the `intl_mins` column with `hue` equal to `churn`.  Save your plot as `intl_mins.png` to the `images` folder.  \n",
    "\n",
    "Do you think international minutes determine customer churn?  Assign your answer as a string -- `yes` or `no` -- to `intl_min_churn` below."
   ]
  },
  {
   "cell_type": "code",
   "execution_count": null,
   "metadata": {
    "nbgrader": {
     "grade": false,
     "grade_id": "cell-a248af51e30e1c6e",
     "locked": false,
     "schema_version": 1,
     "solution": true
    }
   },
   "outputs": [],
   "source": [
    "### GRADED\n",
    "#make your histogram\n",
    "\n",
    "intl_min_churn = None\n",
    "\n",
    "### BEGIN SOLUTION\n",
    "intl_min_churn = 'no'\n",
    "sns.histplot(data = churn_df, x = 'intl_mins', hue = 'churn')\n",
    "plt.savefig('images/intl_mins.png')\n",
    "### END SOLUTION\n",
    "print(type(intl_min_churn))\n",
    "intl_min_churn"
   ]
  },
  {
   "cell_type": "markdown",
   "metadata": {
    "nbgrader": {
     "grade": false,
     "grade_id": "cell-fa747d870bf6c52b",
     "locked": true,
     "schema_version": 1,
     "solution": false
    }
   },
   "source": [
    "[Back to top](#Index:) \n",
    "\n",
    "\n",
    "### Problem 9: `pairplot` of features\n",
    "\n",
    "**1 Point**\n",
    "\n",
    "Use the columns `['night_calls', 'night_charge', 'intl_mins', 'intl_calls', 'intl_charge', 'custserv_calls', 'churn']` to produce a seaborn `pairplot` with `hue` equal to `churn`.  Save your image to `pairplot.png` in the `images` folder.  "
   ]
  },
  {
   "cell_type": "code",
   "execution_count": null,
   "metadata": {
    "nbgrader": {
     "grade": false,
     "grade_id": "cell-fadd43cbf248f9e2",
     "locked": false,
     "schema_version": 1,
     "solution": true
    }
   },
   "outputs": [],
   "source": [
    "### GRADED\n",
    "\n",
    "#make your pairplot\n",
    "\n",
    "### BEGIN SOLUTION\n",
    "sns.pairplot(churn_df[['night_calls', 'night_charge', 'intl_mins', \n",
    "                       'intl_calls', 'intl_charge', 'custserv_calls', 'churn']], hue = 'churn')\n",
    "plt.savefig('images/pairplot.png.png')\n",
    "### END SOLUTION"
   ]
  },
  {
   "cell_type": "markdown",
   "metadata": {
    "nbgrader": {
     "grade": false,
     "grade_id": "cell-1ee07da65dbd92a4",
     "locked": true,
     "schema_version": 1,
     "solution": false
    }
   },
   "source": [
    "[Back to top](#Index:) \n",
    "\n",
    "\n",
    "### Problem 10: Customer Service Calls and Churn\n",
    "\n",
    "**1 Point**\n",
    "\n",
    "Use the `groupby` method to split the data by customers who had more than 4 customer service calls.  Use the `mean()` function to determine the average churn rate for each of the groups and assign your result as a DataFrame to `cust_service_churn` below."
   ]
  },
  {
   "cell_type": "code",
   "execution_count": null,
   "metadata": {
    "nbgrader": {
     "grade": false,
     "grade_id": "cell-4d61d46cc389dd05",
     "locked": false,
     "schema_version": 1,
     "solution": true
    }
   },
   "outputs": [],
   "source": [
    "### GRADED\n",
    "\n",
    "cust_service_churn = None\n",
    "\n",
    "### BEGIN SOLUTION\n",
    "cust_service_churn = churn_df.groupby(churn_df['custserv_calls'] > 4)[['churn']].mean()\n",
    "### END SOLUTION\n",
    "print(type(cust_service_churn))\n",
    "cust_service_churn"
   ]
  },
  {
   "cell_type": "markdown",
   "metadata": {
    "nbgrader": {
     "grade": false,
     "grade_id": "cell-6d46ca5bcbd44d8d",
     "locked": true,
     "schema_version": 1,
     "solution": false
    }
   },
   "source": [
    "It seems there are certain criteria where we find a larger percentage of customers churned based on this initial investigation.  Of course, there are many other ways to split, filter, and aggregate the data.  You are encouraged to further slice and dice the data to dig for more clues as to what drives customer churn."
   ]
  },
  {
   "cell_type": "code",
   "execution_count": null,
   "metadata": {},
   "outputs": [],
   "source": []
  }
 ],
 "metadata": {
  "celltoolbar": "Create Assignment",
  "kernelspec": {
   "display_name": "Python 3 (ipykernel)",
   "language": "python",
   "name": "python3"
  },
  "language_info": {
   "codemirror_mode": {
    "name": "ipython",
    "version": 3
   },
   "file_extension": ".py",
   "mimetype": "text/x-python",
   "name": "python",
   "nbconvert_exporter": "python",
   "pygments_lexer": "ipython3",
   "version": "3.11.9"
  },
  "widgets": {
   "application/vnd.jupyter.widget-state+json": {
    "state": {},
    "version_major": 2,
    "version_minor": 0
   }
  }
 },
 "nbformat": 4,
 "nbformat_minor": 4
}
